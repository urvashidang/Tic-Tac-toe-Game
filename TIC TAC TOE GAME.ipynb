{
 "cells": [
  {
   "cell_type": "markdown",
   "metadata": {},
   "source": [
    "## TIC TAC TOE GAME "
   ]
  },
  {
   "cell_type": "code",
   "execution_count": 1,
   "metadata": {},
   "outputs": [],
   "source": [
    "from IPython.display import clear_output "
   ]
  },
  {
   "cell_type": "code",
   "execution_count": 2,
   "metadata": {},
   "outputs": [],
   "source": [
    "def display_board(board):\n",
    "    clear_output()\n",
    "    print(board[1]+\"|\"+board[2]+\"|\"+board[3])\n",
    "    print('-'*6)\n",
    "    print(board[4]+\"|\"+board[5]+\"|\"+board[6])\n",
    "    print('-'*6)\n",
    "    print(board[7]+\"|\"+board[8]+\"|\"+board[9])"
   ]
  },
  {
   "cell_type": "code",
   "execution_count": 3,
   "metadata": {},
   "outputs": [
    {
     "name": "stdout",
     "output_type": "stream",
     "text": [
      " | | \n",
      "------\n",
      " | | \n",
      "------\n",
      " | | \n"
     ]
    }
   ],
   "source": [
    "board=[' ']*10\n",
    "display_board(board)"
   ]
  },
  {
   "cell_type": "code",
   "execution_count": 4,
   "metadata": {},
   "outputs": [],
   "source": [
    "def player_input():\n",
    "    #output=(player1_marker,player2_marker)\n",
    "    marker=''\n",
    "    while(marker!='X' and marker!='O'):#while not(marker=='X' or marker=='O')\n",
    "        marker=input('Player 1, Choose X or O: ')\n",
    "    player1=marker\n",
    "    if player1=='X':\n",
    "        player2='O'\n",
    "    else:\n",
    "        player2='X'\n",
    "    return(player1,player2)"
   ]
  },
  {
   "cell_type": "code",
   "execution_count": 5,
   "metadata": {},
   "outputs": [
    {
     "name": "stdout",
     "output_type": "stream",
     "text": [
      "Player 1, Choose X or O: X\n"
     ]
    }
   ],
   "source": [
    "player1_marker,player2_marker=player_input()"
   ]
  },
  {
   "cell_type": "code",
   "execution_count": 6,
   "metadata": {},
   "outputs": [],
   "source": [
    "def place_marker(board,marker,position):\n",
    "    board[position]=marker"
   ]
  },
  {
   "cell_type": "code",
   "execution_count": 7,
   "metadata": {},
   "outputs": [
    {
     "name": "stdout",
     "output_type": "stream",
     "text": [
      " | | \n",
      "------\n",
      " | | \n",
      "------\n",
      " |X| \n"
     ]
    }
   ],
   "source": [
    "place_marker(board,'X',8)\n",
    "display_board(board)"
   ]
  },
  {
   "cell_type": "code",
   "execution_count": 8,
   "metadata": {},
   "outputs": [],
   "source": [
    "def win_check(board,mark):\n",
    "    #WIN TIC TAC TOE?\n",
    "    #ALL ROWS\n",
    "    if(board[1]==board[2]==board[3]==mark or board[4]==board[5]==board[6]==mark or board[7]==board[8]==board[9]==mark):\n",
    "        return True\n",
    "    #ALL COLUMNS\n",
    "    if(board[1]==board[4]==board[7]==mark or board[2]==board[5]==board[8]==mark or board[3]==board[6]==board[9]==mark):\n",
    "        return True\n",
    "    #ALL(2) DIAGONALS\n",
    "    if (board[1]==board[5]==board[9]==mark or board[3]==board[5]==board[7]==mark):\n",
    "        return True    "
   ]
  },
  {
   "cell_type": "code",
   "execution_count": 9,
   "metadata": {},
   "outputs": [],
   "source": [
    "board[1]=board[2]=board[3]='X'"
   ]
  },
  {
   "cell_type": "code",
   "execution_count": 10,
   "metadata": {},
   "outputs": [],
   "source": [
    "win_check(board,'O')"
   ]
  },
  {
   "cell_type": "code",
   "execution_count": 11,
   "metadata": {},
   "outputs": [],
   "source": [
    "board=[' ']*10"
   ]
  },
  {
   "cell_type": "code",
   "execution_count": 12,
   "metadata": {},
   "outputs": [
    {
     "data": {
      "text/plain": [
       "[' ', ' ', ' ', ' ', ' ', ' ', ' ', ' ', ' ', ' ']"
      ]
     },
     "execution_count": 12,
     "metadata": {},
     "output_type": "execute_result"
    }
   ],
   "source": [
    "board"
   ]
  },
  {
   "cell_type": "code",
   "execution_count": 13,
   "metadata": {},
   "outputs": [],
   "source": [
    "import random\n",
    "def choose_first():\n",
    "    flip=random.randint(0,1)\n",
    "    if flip==0:\n",
    "        return 'Player 1'\n",
    "    else:\n",
    "        return 'Player 2'"
   ]
  },
  {
   "cell_type": "code",
   "execution_count": 14,
   "metadata": {},
   "outputs": [],
   "source": [
    "def space_check(board,position):\n",
    "    return board[position]==' '"
   ]
  },
  {
   "cell_type": "code",
   "execution_count": 15,
   "metadata": {},
   "outputs": [],
   "source": [
    "def full_board_check(board):\n",
    "    for i in range(1,10):\n",
    "        if space_check(board,i):\n",
    "            return False\n",
    "    #Board is full // we will return TRUE\n",
    "    return True"
   ]
  },
  {
   "cell_type": "code",
   "execution_count": 16,
   "metadata": {},
   "outputs": [],
   "source": [
    "def player_choice(board):\n",
    "    position=0\n",
    "    while position not in [1,2,3,4,5,6,7,8,9] or not space_check(board,position):\n",
    "        position=int(input('Choose a position:(1-9)'))\n",
    "    return position "
   ]
  },
  {
   "cell_type": "code",
   "execution_count": 17,
   "metadata": {},
   "outputs": [],
   "source": [
    "def replay():\n",
    "    choice= input('Play again? Enter Yes or No')\n",
    "    return choice=='Yes'"
   ]
  },
  {
   "cell_type": "code",
   "execution_count": 18,
   "metadata": {},
   "outputs": [
    {
     "name": "stdout",
     "output_type": "stream",
     "text": [
      " | | \n",
      "------\n",
      "X|X|X\n",
      "------\n",
      "O| |O\n",
      "Player1 has won\n",
      "Play again? Enter Yes or NoNo\n"
     ]
    }
   ],
   "source": [
    "print('Welcome to Tic Tac Toe')\n",
    "#WHILE LOOP TO KEEP RUNNING THE GAME\n",
    "while True:\n",
    "    #Play Game\n",
    "    ##set everything up (board,whose first,choose markers x,o)\n",
    "    board=[' ']*10\n",
    "    player1_marker,player2_marker=player_input()\n",
    "    turn=choose_first()\n",
    "    print(turn+'will go first')\n",
    "    play_game=input('Ready to play?y or n')\n",
    "    ##game play\n",
    "    if play_game=='y':\n",
    "        game_on=True\n",
    "    else:\n",
    "        game_on=False\n",
    "    while game_on:\n",
    "        if turn=='Player 1':\n",
    "    #player 1 turn\n",
    "            #Show the board\n",
    "            display_board(board)\n",
    "            #Choose a position\n",
    "            position=player_choice(board)\n",
    "            #place marker\n",
    "            place_marker(board,player1_marker,position)\n",
    "            #win_check\n",
    "            if win_check(board,player1_marker): \n",
    "                display_board(board)\n",
    "                print('Player1 has won')\n",
    "                game_on=False\n",
    "            else:\n",
    "                if full_board_check(board):\n",
    "                    display_board(board)\n",
    "                    print('The game got tie')\n",
    "                    game_on=False\n",
    "                else:\n",
    "                    turn='Player 2'\n",
    "        else:\n",
    "    #player 2 turn\n",
    "     #Show the board\n",
    "            display_board(board)\n",
    "            #Choose a position\n",
    "            position=player_choice(board)\n",
    "            #place marker\n",
    "            place_marker(board,player2_marker,position)\n",
    "            #win_check\n",
    "            if win_check(board,player2_marker):\n",
    "                display_board(board)\n",
    "                print('Player2 has won')\n",
    "                game_on=False\n",
    "            else:\n",
    "                if full_board_check(board):\n",
    "                    display_board(board)\n",
    "                    print('The game got tie')\n",
    "                    game_on=False\n",
    "                else:\n",
    "                    turn='Player 1'\n",
    "    if not replay():\n",
    "        break\n",
    "#BREAK OUT OF THE WHILE LOOP ON replay()"
   ]
  },
  {
   "cell_type": "code",
   "execution_count": null,
   "metadata": {},
   "outputs": [],
   "source": []
  },
  {
   "cell_type": "code",
   "execution_count": null,
   "metadata": {},
   "outputs": [],
   "source": []
  },
  {
   "cell_type": "code",
   "execution_count": null,
   "metadata": {},
   "outputs": [],
   "source": []
  },
  {
   "cell_type": "code",
   "execution_count": null,
   "metadata": {},
   "outputs": [],
   "source": []
  },
  {
   "cell_type": "code",
   "execution_count": null,
   "metadata": {},
   "outputs": [],
   "source": []
  },
  {
   "cell_type": "code",
   "execution_count": null,
   "metadata": {},
   "outputs": [],
   "source": []
  },
  {
   "cell_type": "code",
   "execution_count": null,
   "metadata": {},
   "outputs": [],
   "source": []
  }
 ],
 "metadata": {
  "kernelspec": {
   "display_name": "Python 3",
   "language": "python",
   "name": "python3"
  },
  "language_info": {
   "codemirror_mode": {
    "name": "ipython",
    "version": 3
   },
   "file_extension": ".py",
   "mimetype": "text/x-python",
   "name": "python",
   "nbconvert_exporter": "python",
   "pygments_lexer": "ipython3",
   "version": "3.7.4"
  }
 },
 "nbformat": 4,
 "nbformat_minor": 2
}
